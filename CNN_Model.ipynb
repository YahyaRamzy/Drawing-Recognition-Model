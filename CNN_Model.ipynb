{
 "cells": [
  {
   "cell_type": "markdown",
   "metadata": {},
   "source": [
    "# CNN Model for Drawings recognition"
   ]
  },
  {
   "cell_type": "markdown",
   "metadata": {},
   "source": [
    "Author : keshav  - 2020\n",
    "\n",
    "This notebook aims to build a **Convolutional Neural Network** model to perform a **Multiclass classification** of drawings from the **\"Quick, Draw!\"** dataset, publicly available [here](https://console.cloud.google.com/storage/browser/quickdraw_dataset/full/numpy_bitmap/?pli=1).\n",
    "This simple model is part of a tutorial that shows how to build an **image recognition web-app** using **Flask**.\n",
    "Images are already preprocessed to 28x28 pixel image size, and sorted by category. In this tutorial, we will deal with animal drawings."
   ]
  },
  {
   "cell_type": "code",
   "execution_count": 2,
   "metadata": {},
   "outputs": [],
   "source": [
    "import numpy as np\n",
    "import pandas as pd\n",
    "%matplotlib inline\n",
    "import matplotlib.pyplot as plt\n",
    "from sklearn.metrics import accuracy_score, confusion_matrix, roc_curve, roc_auc_score\n",
    "from sklearn.model_selection import train_test_split, GridSearchCV\n",
    "import keras\n",
    "from keras.models import Sequential\n",
    "from keras.layers import Dense, Dropout, Flatten\n",
    "from keras.layers.convolutional import Conv2D, MaxPooling2D\n",
    "from keras.utils import np_utils\n",
    "from keras import backend as K\n"
   ]
  },
  {
   "cell_type": "markdown",
   "metadata": {},
   "source": [
    "## Preprocessing"
   ]
  },
  {
   "cell_type": "markdown",
   "metadata": {},
   "source": [
    "Let's load data from 6 different classes : cat, sheep, giraffe, bat, octopus and camel. Each drawing consists in 784 pixels, and each dataset has between 123 000 and 150 000 drawings."
   ]
  },
  {
   "cell_type": "code",
   "execution_count": 16,
   "metadata": {
    "scrolled": false
   },
   "outputs": [
    {
     "name": "stdout",
     "output_type": "stream",
     "text": [
      "(123202, 784)\n",
      "(126121, 784)\n",
      "(127182, 784)\n"
     ]
    }
   ],
   "source": [
    "# load the data\n",
    "ant = np.load('E:/SBIR/Quickdraw/full_numpy_bitmap_ant.npy')\n",
    "bee = np.load('E:/SBIR/Quickdraw/full_numpy_bitmap_bee.npy')\n",
    "bear = np.load('E:/SBIR/Quickdraw/full_numpy_bitmap_bear.npy')\n",
    "bird = np.load('E:/SBIR/Quickdraw/full_numpy_bitmap_bird.npy')\n",
    "cat = np.load('E:/SBIR/Quickdraw/full_numpy_bitmap_cat.npy')\n",
    "cow = np.load('E:/SBIR/Quickdraw/full_numpy_bitmap_cow.npy')\n",
    "#crab = np.load('E:/SBIR/Quickdraw/full_numpy_bitmap_crab.npy')\n",
    "#crocodile = np.load('E:/SBIR/Quickdraw/full_numpy_bitmap_crocodile.npy')\n",
    "dog = np.load('E:/SBIR/Quickdraw/full_numpy_bitmap_dog.npy')\n",
    "dolphin = np.load('E:/SBIR/Quickdraw/full_numpy_bitmap_dolphin.npy')\n",
    "#dragon = np.load('E:/SBIR/Quickdraw/full_numpy_bitmap_dragon.npy')\n",
    "elephant = np.load('E:/SBIR/Quickdraw/full_numpy_bitmap_elephant.npy')\n",
    "#flamingo = np.load('E:/SBIR/Quickdraw/full_numpy_bitmap_flamingo.npy')\n",
    "frog = np.load('E:/SBIR/Quickdraw/full_numpy_bitmap_frog.npy')\n",
    "giraffe = np.load('E:/SBIR/Quickdraw/full_numpy_bitmap_giraffe.npy')\n",
    "#hedgehog = np.load('E:/SBIR/Quickdraw/full_numpy_bitmap_hedgehog.npy')\n",
    "horse = np.load('E:/SBIR/Quickdraw/full_numpy_bitmap_horse.npy')\n",
    "#kangaroo = np.load('E:/SBIR/Quickdraw/full_numpy_bitmap_kangaroo.npy')\n",
    "lion = np.load('E:/SBIR/Quickdraw/full_numpy_bitmap_lion.npy')\n",
    "#lobster = np.load('E:/SBIR/Quickdraw/full_numpy_bitmap_lobster.npy')\n",
    "monkey = np.load('E:/SBIR/Quickdraw/full_numpy_bitmap_monkey.npy')\n",
    "octopus = np.load('E:/SBIR/Quickdraw/full_numpy_bitmap_octopus.npy')\n",
    "#panda = np.load('E:/SBIR/Quickdraw/full_numpy_bitmap_panda.npy')\n",
    "#parrot = np.load('E:/SBIR/Quickdraw/full_numpy_bitmap_parrot.npy')\n",
    "#penguin = np.load('E:/SBIR/Quickdraw/full_numpy_bitmap_penguin.npy')\n",
    "pig = np.load('E:/SBIR/Quickdraw/full_numpy_bitmap_pig.npy')\n",
    "rabbit = np.load('E:/SBIR/Quickdraw/full_numpy_bitmap_rabbit.npy')\n",
    "#raccoon = np.load('E:/SBIR/Quickdraw/full_numpy_bitmap_raccoon.npy')\n",
    "#rhinoceros = np.load('E:/SBIR/Quickdraw/full_numpy_bitmap_rhinoceros.npy')\n",
    "#scorpion = np.load('E:/SBIR/Quickdraw/full_numpy_bitmap_scorpion.npy')\n",
    "#sea_turtle = np.load('E:/SBIR/Quickdraw/full_numpy_bitmap_sea turtle.npy')\n",
    "shark = np.load('E:/SBIR/Quickdraw/full_numpy_bitmap_shark.npy')\n",
    "sheep = np.load('E:/SBIR/Quickdraw/full_numpy_bitmap_sheep.npy')\n",
    "#snail = np.load('E:/SBIR/Quickdraw/full_numpy_bitmap_snail.npy')\n",
    "snake = np.load('E:/SBIR/Quickdraw/full_numpy_bitmap_snake.npy')\n",
    "#swan = np.load('E:/SBIR/Quickdraw/full_numpy_bitmap_swan.npy')\n",
    "#tiger = np.load('E:/SBIR/Quickdraw/full_numpy_bitmap_tiger.npy')\n",
    "#whale = np.load('E:/SBIR/Quickdraw/full_numpy_bitmap_whale.npy')\n",
    "##zebra = np.load('E:/SBIR/Quickdraw/full_numpy_bitmap_zebra.npy')\n",
    "\n",
    "\n",
    "print(cat.shape)\n",
    "print(sheep.shape)\n",
    "print(giraffe.shape)\n"
   ]
  },
  {
   "cell_type": "markdown",
   "metadata": {},
   "source": [
    "For each class, we add a column to set the labels. **{ 0:'cat', 1:'giraffe', 2:'sheep', 3:'bat', 4:'octopus', 5:'camel'}**\n"
   ]
  },
  {
   "cell_type": "code",
   "execution_count": 17,
   "metadata": {},
   "outputs": [
    {
     "name": "stdout",
     "output_type": "stream",
     "text": [
      "(123202, 785)\n"
     ]
    }
   ],
   "source": [
    "ant = np.c_[ant, np.zeros(len(ant))]\n",
    "bee = np.c_[bee, np.ones(len(bee))]\n",
    "bear = np.c_[bear, 2*np.ones(len(bear))]\n",
    "bird = np.c_[bird, 3*np.ones(len(bird))]\n",
    "cat = np.c_[cat, 4*np.ones(len(cat))]\n",
    "cow = np.c_[cow, 5*np.ones(len(cow))]\n",
    "#crocodile = np.c_[crocodile, 6*np.ones(len(crocodile))]\n",
    "dog = np.c_[dog, 6*np.ones(len(dog))]\n",
    "dolphin = np.c_[dolphin, 7*np.ones(len(dolphin))]\n",
    "#dragon = np.c_[dragon, 8*np.ones(len(dragon))]\n",
    "elephant = np.c_[elephant, 8*np.ones(len(elephant))]\n",
    "#flamingo = np.c_[flamingo, 11*np.ones(len(flamingo))]\n",
    "#frog = np.c_[frog, 10*np.ones(len(frog))]\n",
    "giraffe = np.c_[giraffe, 9*np.ones(len(giraffe))]\n",
    "#hedgehog = np.c_[hedgehog, 14*np.ones(len(hedgehog))]\n",
    "horse = np.c_[horse, 10*np.ones(len(horse))]\n",
    "#kangaroo = np.c_[kangaroo, 16*np.ones(len(kangaroo))]\n",
    "lion = np.c_[lion, 11*np.ones(len(lion))]\n",
    "#lobster = np.c_[lobster, 18*np.ones(len(lobster))]\n",
    "monkey = np.c_[monkey, 12*np.ones(len(monkey))]\n",
    "octopus = np.c_[octopus, 13*np.ones(len(octopus))]\n",
    "#panda = np.c_[panda, 16*np.ones(len(panda))]\n",
    "#parrot = np.c_[parrot, 22*np.ones(len(parrot))]\n",
    "#penguin = np.c_[penguin, 23*np.ones(len(penguin))]\n",
    "pig = np.c_[pig, 14*np.ones(len(pig))]\n",
    "rabbit = np.c_[rabbit, 15*np.ones(len(rabbit))]\n",
    "#raccoon = np.c_[raccoon, 26*np.ones(len(raccoon))]\n",
    "#rhinoceros = np.c_[rhinoceros, 27*np.ones(len(rhinoceros))]\n",
    "#scorpion = np.c_[scorpion, 19*np.ones(len(scorpion))]\n",
    "#sea_turtle = np.c_[sea_turtle, 29*np.ones(len(sea_turtle))]\n",
    "shark = np.c_[shark, 16*np.ones(len(shark))]\n",
    "sheep = np.c_[sheep, 17*np.ones(len(sheep))]\n",
    "#snail = np.c_[snail, 32*np.ones(len(snail))]\n",
    "snake = np.c_[snake, 18*np.ones(len(snake))]\n",
    "#swan = np.c_[swan, 34*np.ones(len(swan))]\n",
    "#tiger = np.c_[tiger, 23*np.ones(len(tiger))]\n",
    "#whale = np.c_[whale, 36*np.ones(len(whale))]\n",
    "#zebra = np.c_[zebra, 37*np.ones(len(zebra))]\n",
    "\n",
    "\n",
    "\n",
    "print(cat.shape)"
   ]
  },
  {
   "cell_type": "markdown",
   "metadata": {},
   "source": [
    "Let's have a look at our samples. "
   ]
  },
  {
   "cell_type": "code",
   "execution_count": 18,
   "metadata": {},
   "outputs": [],
   "source": [
    "def plot_samples(input_array, rows=4, cols=5, title=''):\n",
    "    '''\n",
    "    Function to plot 28x28 pixel drawings that are stored in a numpy array.\n",
    "    Specify how many rows and cols of pictures to display (default 4x5).  \n",
    "    If the array contains less images than subplots selected, surplus subplots remain empty.\n",
    "    '''\n",
    "    fig, ax = plt.subplots(figsize=(cols,rows))\n",
    "    ax.axis('off')\n",
    "    plt.title(title)\n",
    "\n",
    "    for i in list(range(0, min(len(input_array),(rows*cols)) )):      \n",
    "        a = fig.add_subplot(rows,cols,i+1)\n",
    "        imgplot = plt.imshow(input_array[i,:784].reshape((28,28)), cmap='gray_r', interpolation='nearest')\n",
    "        plt.xticks([])\n",
    "        plt.yticks([])"
   ]
  },
  {
   "cell_type": "code",
   "execution_count": 19,
   "metadata": {},
   "outputs": [
    {
     "data": {
      "image/png": "[encoded data removed]",
      "text/plain": [
       "<Figure size 500x400 with 21 Axes>"
      ]
     },
     "metadata": {},
     "output_type": "display_data"
    }
   ],
   "source": [
    "plot_samples(octopus, title='Sample octopus drawings\\n')"
   ]
  },
  {
   "cell_type": "code",
   "execution_count": 20,
   "metadata": {},
   "outputs": [
    {
     "data": {
      "image/png": "[encoded data removed]",
      "text/plain": [
       "<Figure size 500x400 with 21 Axes>"
      ]
     },
     "metadata": {},
     "output_type": "display_data"
    }
   ],
   "source": [
    "plot_samples(bee, title='Sample camel drawings\\n')"
   ]
  },
  {
   "cell_type": "markdown",
   "metadata": {},
   "source": [
    "Next step : \n",
    "* We need to combine our data so we can use it for the train and test. I will only use 10 000 samples for this model.\n",
    "* We then can split the features and labels (X and y).\n",
    "* Finally, we split data between train and test following the usual (80 - 20) ratio. We also normalize values between 0 and 1 (X/255) as pixels values are initially gray scale between 0 and 255."
   ]
  },
  {
   "cell_type": "code",
   "execution_count": 36,
   "metadata": {},
   "outputs": [],
   "source": [
    "# Merging arrays and splitting the features and labels\n",
    "X = np.concatenate((cat[:3000,:-1], giraffe[:3000,:-1], sheep[:3000,:-1], ant[:3000,:-1], octopus[:3000,:-1], ant[:3000, :-1], bee[:3000, :-1], bear[:3000, :-1], bird[:3000, :-1],cow[:3000, :-1],dog[:3000, :-1],dolphin[:3000, :-1],elephant[:3000, :-1],giraffe[:3000, :-1],horse[:3000, :-1],lion[:3000, :-1],monkey[:3000, :-1],pig[:3000, :-1],rabbit[:3000, :-1],shark[:3000, :-1],snake[:3000, :-1]), axis=0).astype('float32') # all columns but the last\n",
    "y = np.concatenate((cat[:3000,-1], giraffe[:3000,-1], sheep[:3000,-1], ant[:3000,-1], octopus[:3000,-1],  ant[:3000,-1],bee[:3000,-1],bear[:3000,-1],bird[:3000,-1],cow[:3000,-1],dog[:3000,-1],dolphin[:3000,-1],elephant[:3000,-1],giraffe[:3000,-1],horse[:3000,-1],lion[:3000,-1],monkey[:3000,-1],pig[:3000,-1],rabbit[:3000,-1],shark[:3000,-1],snake[:3000,-1]), axis=0).astype('float32') # the last column\n",
    "\n",
    "# We than split data between train and test (80 - 20 usual ratio). Normalizing the value between 0 and 1\n",
    "X_train, X_test, y_train, y_test = train_test_split(X/255.,y,test_size=0.2,random_state=0)"
   ]
  },
  {
   "cell_type": "markdown",
   "metadata": {},
   "source": [
    "Output variable is an integer from 0 to 5 (MultiClass Classification problem). We are gonna use a one hot encoding of the class values."
   ]
  },
  {
   "cell_type": "code",
   "execution_count": 38,
   "metadata": {},
   "outputs": [
    {
     "name": "stdout",
     "output_type": "stream",
     "text": [
      "19\n"
     ]
    }
   ],
   "source": [
    "# one hot encode outputs\n",
    "y_train_cnn = np_utils.to_categorical(y_train)\n",
    "y_test_cnn = np_utils.to_categorical(y_test)\n",
    "num_classes = y_test_cnn.shape[1]\n",
    "print(num_classes)"
   ]
  },
  {
   "cell_type": "code",
   "execution_count": 39,
   "metadata": {},
   "outputs": [],
   "source": [
    "# reshape to be [samples][pixels][width][height]\n",
    "X_train_cnn = X_train.reshape(X_train.shape[0], 1, 28, 28).astype('float32')\n",
    "X_test_cnn = X_test.reshape(X_test.shape[0], 1, 28, 28).astype('float32')"
   ]
  },
  {
   "cell_type": "markdown",
   "metadata": {},
   "source": [
    "# CNN Model"
   ]
  },
  {
   "cell_type": "markdown",
   "metadata": {},
   "source": [
    "We will now to build our CNN model using Keras. This model will have the following layers : \n",
    "   * **Convolutional Layer** : 30 filters, (3 * 3) kernel  size\n",
    "   * **Max Pooling Layer** : (2 * 2) pool size\n",
    "   * **Convolutional Layer** : 15 filters, (3 * 3) kernel size\n",
    "   * **Max Pooling Layer** : (2 * 2) pool size\n",
    "   * **DropOut Layer** : Dropping 20% of neurons.\n",
    "   * **Flatten Layer**\n",
    "   * **Dense/Fully Connected Layer** : 128 Neurons, *Relu* activation function\n",
    "   * **Dense/Fully Connected Layer** : 50 Neurons, *Softmax* activation function\n",
    "   \n",
    "**Input shape** : pixels * width * height : 1 * 28 * 28\n",
    "\n",
    "We run our model for **15** epochs and with a batch size of **200**."
   ]
  },
  {
   "cell_type": "code",
   "execution_count": 52,
   "metadata": {},
   "outputs": [],
   "source": [
    "def cnn_model():\n",
    "    # create model\n",
    "    model = Sequential()\n",
    "    model.add(Conv2D(30, (3, 3), input_shape=(1, 28, 28), activation='relu',padding='same'))\n",
    "    model.add(MaxPooling2D(pool_size=(2, 2),padding='same'))\n",
    "    model.add(Conv2D(15, (3, 3), activation='relu',padding='same'))\n",
    "    model.add(MaxPooling2D(pool_size=(2, 2),padding='same'))\n",
    "    model.add(Dropout(0.2))\n",
    "    model.add(Flatten())\n",
    "    model.add(Dense(128, activation='relu'))\n",
    "    model.add(Dense(50, activation='relu'))\n",
    "    model.add(Dense(num_classes, activation='softmax'))\n",
    "    # Compile model\n",
    "    model.compile(loss='categorical_crossentropy', optimizer='adam', metrics=['accuracy'])\n",
    "    return model"
   ]
  },
  {
   "cell_type": "code",
   "execution_count": 55,
   "metadata": {
    "scrolled": false
   },
   "outputs": [
    {
     "name": "stdout",
     "output_type": "stream",
     "text": [
      "Epoch 1/50\n",
      "1680/1680 [==============================] - 6s 3ms/step - loss: 1.9443 - accuracy: 0.4118 - val_loss: 1.5998 - val_accuracy: 0.5294\n",
      "Epoch 2/50\n",
      "1680/1680 [==============================] - 5s 3ms/step - loss: 1.5908 - accuracy: 0.5183 - val_loss: 1.4511 - val_accuracy: 0.5705\n",
      "Epoch 3/50\n",
      "1680/1680 [==============================] - 5s 3ms/step - loss: 1.4761 - accuracy: 0.5503 - val_loss: 1.3685 - val_accuracy: 0.5879\n",
      "Epoch 4/50\n",
      "1680/1680 [==============================] - 6s 4ms/step - loss: 1.4097 - accuracy: 0.5724 - val_loss: 1.3155 - val_accuracy: 0.6081\n",
      "Epoch 5/50\n",
      "1680/1680 [==============================] - 5s 3ms/step - loss: 1.3617 - accuracy: 0.5849 - val_loss: 1.2788 - val_accuracy: 0.6126\n",
      "Epoch 6/50\n",
      "1680/1680 [==============================] - 5s 3ms/step - loss: 1.3260 - accuracy: 0.5942 - val_loss: 1.2457 - val_accuracy: 0.6212\n",
      "Epoch 7/50\n",
      "1680/1680 [==============================] - 5s 3ms/step - loss: 1.2981 - accuracy: 0.6039 - val_loss: 1.2268 - val_accuracy: 0.6325\n",
      "Epoch 8/50\n",
      "1680/1680 [==============================] - 5s 3ms/step - loss: 1.2747 - accuracy: 0.6093 - val_loss: 1.2124 - val_accuracy: 0.6377\n",
      "Epoch 9/50\n",
      "1680/1680 [==============================] - 5s 3ms/step - loss: 1.2572 - accuracy: 0.6136 - val_loss: 1.2124 - val_accuracy: 0.6317\n",
      "Epoch 10/50\n",
      "1680/1680 [==============================] - 5s 3ms/step - loss: 1.2377 - accuracy: 0.6189 - val_loss: 1.2198 - val_accuracy: 0.6305\n",
      "Epoch 11/50\n",
      "1680/1680 [==============================] - 5s 3ms/step - loss: 1.2241 - accuracy: 0.6235 - val_loss: 1.1852 - val_accuracy: 0.6423\n",
      "Epoch 12/50\n",
      "1680/1680 [==============================] - 5s 3ms/step - loss: 1.2142 - accuracy: 0.6251 - val_loss: 1.2087 - val_accuracy: 0.6390\n",
      "Epoch 13/50\n",
      "1680/1680 [==============================] - 5s 3ms/step - loss: 1.1976 - accuracy: 0.6313 - val_loss: 1.1700 - val_accuracy: 0.6437\n",
      "Epoch 14/50\n",
      "1680/1680 [==============================] - 5s 3ms/step - loss: 1.1937 - accuracy: 0.6317 - val_loss: 1.1652 - val_accuracy: 0.6502\n",
      "Epoch 15/50\n",
      "1680/1680 [==============================] - 5s 3ms/step - loss: 1.1806 - accuracy: 0.6337 - val_loss: 1.1467 - val_accuracy: 0.6555\n",
      "Epoch 16/50\n",
      "1680/1680 [==============================] - 5s 3ms/step - loss: 1.1739 - accuracy: 0.6374 - val_loss: 1.1474 - val_accuracy: 0.6518\n",
      "Epoch 17/50\n",
      "1680/1680 [==============================] - 5s 3ms/step - loss: 1.1658 - accuracy: 0.6370 - val_loss: 1.1352 - val_accuracy: 0.6562\n",
      "Epoch 18/50\n",
      "1680/1680 [==============================] - 5s 3ms/step - loss: 1.1518 - accuracy: 0.6423 - val_loss: 1.1468 - val_accuracy: 0.6534\n",
      "Epoch 19/50\n",
      "1680/1680 [==============================] - 5s 3ms/step - loss: 1.1514 - accuracy: 0.6434 - val_loss: 1.1177 - val_accuracy: 0.6619\n",
      "Epoch 20/50\n",
      "1680/1680 [==============================] - 5s 3ms/step - loss: 1.1443 - accuracy: 0.6465 - val_loss: 1.1509 - val_accuracy: 0.6509\n",
      "Epoch 21/50\n",
      "1680/1680 [==============================] - 5s 3ms/step - loss: 1.1383 - accuracy: 0.6479 - val_loss: 1.1289 - val_accuracy: 0.6562\n",
      "Epoch 22/50\n",
      "1680/1680 [==============================] - 5s 3ms/step - loss: 1.1340 - accuracy: 0.6462 - val_loss: 1.1166 - val_accuracy: 0.6628\n",
      "Epoch 23/50\n",
      "1680/1680 [==============================] - 5s 3ms/step - loss: 1.1251 - accuracy: 0.6503 - val_loss: 1.1388 - val_accuracy: 0.6537\n",
      "Epoch 24/50\n",
      "1680/1680 [==============================] - 5s 3ms/step - loss: 1.1184 - accuracy: 0.6527 - val_loss: 1.1183 - val_accuracy: 0.6632\n",
      "Epoch 25/50\n",
      "1680/1680 [==============================] - 5s 3ms/step - loss: 1.1140 - accuracy: 0.6543 - val_loss: 1.1233 - val_accuracy: 0.6606\n",
      "Epoch 26/50\n",
      "1680/1680 [==============================] - 5s 3ms/step - loss: 1.1115 - accuracy: 0.6537 - val_loss: 1.1241 - val_accuracy: 0.6579\n",
      "Epoch 27/50\n",
      "1680/1680 [==============================] - 5s 3ms/step - loss: 1.1085 - accuracy: 0.6563 - val_loss: 1.1240 - val_accuracy: 0.6561\n",
      "Epoch 28/50\n",
      "1680/1680 [==============================] - 5s 3ms/step - loss: 1.1002 - accuracy: 0.6574 - val_loss: 1.1010 - val_accuracy: 0.6656\n",
      "Epoch 29/50\n",
      "1680/1680 [==============================] - 5s 3ms/step - loss: 1.0966 - accuracy: 0.6577 - val_loss: 1.1122 - val_accuracy: 0.6597\n",
      "Epoch 30/50\n",
      "1680/1680 [==============================] - 5s 3ms/step - loss: 1.0902 - accuracy: 0.6606 - val_loss: 1.1106 - val_accuracy: 0.6606\n",
      "Epoch 31/50\n",
      "1680/1680 [==============================] - 5s 3ms/step - loss: 1.0896 - accuracy: 0.6599 - val_loss: 1.0991 - val_accuracy: 0.6633\n",
      "Epoch 32/50\n",
      "1680/1680 [==============================] - 5s 3ms/step - loss: 1.0824 - accuracy: 0.6641 - val_loss: 1.1180 - val_accuracy: 0.6584\n",
      "Epoch 33/50\n",
      "1680/1680 [==============================] - 5s 3ms/step - loss: 1.0843 - accuracy: 0.6609 - val_loss: 1.1098 - val_accuracy: 0.6643\n",
      "Epoch 34/50\n",
      "1680/1680 [==============================] - 5s 3ms/step - loss: 1.0782 - accuracy: 0.6664 - val_loss: 1.1009 - val_accuracy: 0.6647\n",
      "Epoch 35/50\n",
      "1680/1680 [==============================] - 5s 3ms/step - loss: 1.0737 - accuracy: 0.6640 - val_loss: 1.1151 - val_accuracy: 0.6602\n",
      "Epoch 36/50\n",
      "1680/1680 [==============================] - 5s 3ms/step - loss: 1.0772 - accuracy: 0.6637 - val_loss: 1.0987 - val_accuracy: 0.6631\n",
      "Epoch 37/50\n",
      "1680/1680 [==============================] - 5s 3ms/step - loss: 1.0664 - accuracy: 0.6673 - val_loss: 1.1059 - val_accuracy: 0.6633\n",
      "Epoch 38/50\n",
      "1680/1680 [==============================] - 5s 3ms/step - loss: 1.0683 - accuracy: 0.6682 - val_loss: 1.0915 - val_accuracy: 0.6697\n",
      "Epoch 39/50\n",
      "1680/1680 [==============================] - 5s 3ms/step - loss: 1.0682 - accuracy: 0.6663 - val_loss: 1.0906 - val_accuracy: 0.6652\n",
      "Epoch 40/50\n",
      "1680/1680 [==============================] - 5s 3ms/step - loss: 1.0640 - accuracy: 0.6674 - val_loss: 1.0979 - val_accuracy: 0.6694\n",
      "Epoch 41/50\n",
      "1680/1680 [==============================] - 5s 3ms/step - loss: 1.0619 - accuracy: 0.6693 - val_loss: 1.0946 - val_accuracy: 0.6650\n",
      "Epoch 42/50\n",
      "1680/1680 [==============================] - 5s 3ms/step - loss: 1.0587 - accuracy: 0.6700 - val_loss: 1.1017 - val_accuracy: 0.6650\n",
      "Epoch 43/50\n",
      "1680/1680 [==============================] - 5s 3ms/step - loss: 1.0533 - accuracy: 0.6712 - val_loss: 1.1070 - val_accuracy: 0.6639\n",
      "Epoch 44/50\n",
      "1680/1680 [==============================] - 5s 3ms/step - loss: 1.0549 - accuracy: 0.6706 - val_loss: 1.1072 - val_accuracy: 0.6641\n",
      "Epoch 45/50\n",
      "1680/1680 [==============================] - 5s 3ms/step - loss: 1.0517 - accuracy: 0.6686 - val_loss: 1.1031 - val_accuracy: 0.6611\n",
      "Epoch 46/50\n",
      "1680/1680 [==============================] - 5s 3ms/step - loss: 1.0516 - accuracy: 0.6697 - val_loss: 1.0981 - val_accuracy: 0.6650\n",
      "Epoch 47/50\n",
      "1680/1680 [==============================] - 5s 3ms/step - loss: 1.0499 - accuracy: 0.6722 - val_loss: 1.0882 - val_accuracy: 0.6695\n",
      "Epoch 48/50\n",
      "1680/1680 [==============================] - 5s 3ms/step - loss: 1.0456 - accuracy: 0.6753 - val_loss: 1.0974 - val_accuracy: 0.6670\n",
      "Epoch 49/50\n",
      "1680/1680 [==============================] - 5s 3ms/step - loss: 1.0468 - accuracy: 0.6736 - val_loss: 1.0945 - val_accuracy: 0.6672\n",
      "Epoch 50/50\n",
      "1680/1680 [==============================] - 5s 3ms/step - loss: 1.0423 - accuracy: 0.6738 - val_loss: 1.0982 - val_accuracy: 0.6656\n",
      "Final CNN accuracy:  0.6656349301338196\n",
      "Wall time: 4min 12s\n"
     ]
    }
   ],
   "source": [
    "%%time\n",
    "np.random.seed(0)\n",
    "# build the model\n",
    "model_cnn = cnn_model()\n",
    "# Fit the model\n",
    "model_cnn.fit(X_train_cnn, y_train_cnn, validation_data=(X_test_cnn, y_test_cnn), epochs=50, batch_size=30)\n",
    "# Final evaluation of the model\n",
    "scores = model_cnn.evaluate(X_test_cnn, y_test_cnn, verbose=0)\n",
    "print('Final CNN accuracy: ', scores[1])"
   ]
  },
  {
   "cell_type": "markdown",
   "metadata": {},
   "source": [
    "After our 15 epochs, we finally almost reach **93** % accuracy which seems fair for our project and with only a small part of the total dataset used for training! Let's go further and analyse the confusion matrix."
   ]
  },
  {
   "cell_type": "markdown",
   "metadata": {},
   "source": [
    "# Confusion Matrix"
   ]
  },
  {
   "cell_type": "code",
   "execution_count": 56,
   "metadata": {},
   "outputs": [
    {
     "ename": "AttributeError",
     "evalue": "'Sequential' object has no attribute 'predict_classes'",
     "output_type": "error",
     "traceback": [
      "\u001b[1;31m---------------------------------------------------------------------------\u001b[0m",
      "\u001b[1;31mAttributeError\u001b[0m                            Traceback (most recent call last)",
      "\u001b[1;32m~\\AppData\\Local\\Temp\\ipykernel_16152\\688273946.py\u001b[0m in \u001b[0;36m<module>\u001b[1;34m\u001b[0m\n\u001b[1;32m----> 1\u001b[1;33m \u001b[0my_pred_cnn\u001b[0m \u001b[1;33m=\u001b[0m \u001b[0mmodel_cnn\u001b[0m\u001b[1;33m.\u001b[0m\u001b[0mpredict_classes\u001b[0m\u001b[1;33m(\u001b[0m\u001b[0mX_test_cnn\u001b[0m\u001b[1;33m,\u001b[0m \u001b[0mverbose\u001b[0m\u001b[1;33m=\u001b[0m\u001b[1;36m0\u001b[0m\u001b[1;33m)\u001b[0m\u001b[1;33m\u001b[0m\u001b[1;33m\u001b[0m\u001b[0m\n\u001b[0m",
      "\u001b[1;31mAttributeError\u001b[0m: 'Sequential' object has no attribute 'predict_classes'"
     ]
    }
   ],
   "source": [
    "y_pred_cnn = model_cnn.predict_classes(X_test_cnn, verbose=0)"
   ]
  },
  {
   "cell_type": "code",
   "execution_count": 15,
   "metadata": {},
   "outputs": [],
   "source": [
    "from sklearn import metrics\n",
    "c_matrix = metrics.confusion_matrix(y_test, y_pred_cnn)"
   ]
  },
  {
   "cell_type": "code",
   "execution_count": 58,
   "metadata": {},
   "outputs": [],
   "source": [
    "import seaborn as sns\n",
    "def confusion_matrix(confusion_matrix, class_names, figsize = (10,7), fontsize=14):\n",
    "    \"\"\"Prints a confusion matrix, as returned by sklearn.metrics.confusion_matrix, as a heatmap.\n",
    "    \n",
    "    Arguments\n",
    "    ---------\n",
    "    confusion_matrix: numpy.ndarray\n",
    "        The numpy.ndarray object returned from a call to sklearn.metrics.confusion_matrix. \n",
    "        Similarly constructed ndarrays can also be used.\n",
    "    class_names: list\n",
    "        An ordered list of class names, in the order they index the given confusion matrix.\n",
    "    figsize: tuple\n",
    "        A 2-long tuple, the first value determining the horizontal size of the ouputted figure,\n",
    "        the second determining the vertical size. Defaults to (10,7).\n",
    "    fontsize: int\n",
    "        Font size for axes labels. Defaults to 14.\n",
    "    \"\"\"\n",
    "    df_cm = pd.DataFrame(\n",
    "        confusion_matrix, index=class_names, columns=class_names, \n",
    "    )\n",
    "    fig = plt.figure(figsize=figsize)\n",
    "    try:\n",
    "        heatmap = sns.heatmap(df_cm, annot=True, fmt=\"d\")\n",
    "    except ValueError:\n",
    "        raise ValueError(\"Confusion matrix values must be integers.\")\n",
    "    heatmap.yaxis.set_ticklabels(heatmap.yaxis.get_ticklabels(), rotation=0, ha='right', fontsize=fontsize)\n",
    "    heatmap.xaxis.set_ticklabels(heatmap.xaxis.get_ticklabels(), rotation=45, ha='right', fontsize=fontsize)\n",
    "    plt.ylabel('True label')\n",
    "    plt.xlabel('Predicted label')\n"
   ]
  },
  {
   "cell_type": "code",
   "execution_count": 59,
   "metadata": {
    "scrolled": false
   },
   "outputs": [
    {
     "ename": "NameError",
     "evalue": "name 'c_matrix' is not defined",
     "output_type": "error",
     "traceback": [
      "\u001b[1;31m---------------------------------------------------------------------------\u001b[0m",
      "\u001b[1;31mNameError\u001b[0m                                 Traceback (most recent call last)",
      "\u001b[1;32m~\\AppData\\Local\\Temp\\ipykernel_16152\\1969578548.py\u001b[0m in \u001b[0;36m<module>\u001b[1;34m\u001b[0m\n\u001b[0;32m      1\u001b[0m \u001b[0mclass_names\u001b[0m \u001b[1;33m=\u001b[0m \u001b[1;33m[\u001b[0m\u001b[1;34m'cat'\u001b[0m\u001b[1;33m,\u001b[0m \u001b[1;34m'giraffe'\u001b[0m\u001b[1;33m,\u001b[0m \u001b[1;34m'sheep'\u001b[0m\u001b[1;33m,\u001b[0m \u001b[1;34m'bat'\u001b[0m\u001b[1;33m,\u001b[0m \u001b[1;34m'octopus'\u001b[0m\u001b[1;33m,\u001b[0m \u001b[1;34m'camel'\u001b[0m\u001b[1;33m]\u001b[0m\u001b[1;33m\u001b[0m\u001b[1;33m\u001b[0m\u001b[0m\n\u001b[1;32m----> 2\u001b[1;33m \u001b[0mconfusion_matrix\u001b[0m\u001b[1;33m(\u001b[0m\u001b[0mc_matrix\u001b[0m\u001b[1;33m,\u001b[0m \u001b[0mclass_names\u001b[0m\u001b[1;33m,\u001b[0m \u001b[0mfigsize\u001b[0m \u001b[1;33m=\u001b[0m \u001b[1;33m(\u001b[0m\u001b[1;36m10\u001b[0m\u001b[1;33m,\u001b[0m\u001b[1;36m7\u001b[0m\u001b[1;33m)\u001b[0m\u001b[1;33m,\u001b[0m \u001b[0mfontsize\u001b[0m\u001b[1;33m=\u001b[0m\u001b[1;36m14\u001b[0m\u001b[1;33m)\u001b[0m\u001b[1;33m\u001b[0m\u001b[1;33m\u001b[0m\u001b[0m\n\u001b[0m",
      "\u001b[1;31mNameError\u001b[0m: name 'c_matrix' is not defined"
     ]
    }
   ],
   "source": [
    "class_names = ['cat', 'giraffe', 'sheep', 'bat', 'octopus', 'camel']\n",
    "confusion_matrix(c_matrix, class_names, figsize = (10,7), fontsize=14)"
   ]
  },
  {
   "cell_type": "code",
   "execution_count": 60,
   "metadata": {},
   "outputs": [
    {
     "ename": "NameError",
     "evalue": "name 'y_pred_cnn' is not defined",
     "output_type": "error",
     "traceback": [
      "\u001b[1;31m---------------------------------------------------------------------------\u001b[0m",
      "\u001b[1;31mNameError\u001b[0m                                 Traceback (most recent call last)",
      "\u001b[1;32m~\\AppData\\Local\\Temp\\ipykernel_16152\\1488170179.py\u001b[0m in \u001b[0;36m<module>\u001b[1;34m\u001b[0m\n\u001b[0;32m      1\u001b[0m \u001b[1;31m#Misclassification when y_pred and y_test are different.\u001b[0m\u001b[1;33m\u001b[0m\u001b[1;33m\u001b[0m\u001b[0m\n\u001b[1;32m----> 2\u001b[1;33m \u001b[0mmisclassified\u001b[0m \u001b[1;33m=\u001b[0m \u001b[0mX_test\u001b[0m\u001b[1;33m[\u001b[0m\u001b[0my_pred_cnn\u001b[0m \u001b[1;33m!=\u001b[0m \u001b[0my_test\u001b[0m\u001b[1;33m]\u001b[0m\u001b[1;33m\u001b[0m\u001b[1;33m\u001b[0m\u001b[0m\n\u001b[0m",
      "\u001b[1;31mNameError\u001b[0m: name 'y_pred_cnn' is not defined"
     ]
    }
   ],
   "source": [
    "#Misclassification when y_pred and y_test are different.\n",
    "misclassified = X_test[y_pred_cnn != y_test]"
   ]
  },
  {
   "cell_type": "code",
   "execution_count": 61,
   "metadata": {},
   "outputs": [
    {
     "ename": "NameError",
     "evalue": "name 'misclassified' is not defined",
     "output_type": "error",
     "traceback": [
      "\u001b[1;31m---------------------------------------------------------------------------\u001b[0m",
      "\u001b[1;31mNameError\u001b[0m                                 Traceback (most recent call last)",
      "\u001b[1;32m~\\AppData\\Local\\Temp\\ipykernel_16152\\1644273794.py\u001b[0m in \u001b[0;36m<module>\u001b[1;34m\u001b[0m\n\u001b[1;32m----> 1\u001b[1;33m \u001b[0mplot_samples\u001b[0m\u001b[1;33m(\u001b[0m\u001b[0mmisclassified\u001b[0m\u001b[1;33m,\u001b[0m \u001b[0mrows\u001b[0m\u001b[1;33m=\u001b[0m\u001b[1;36m10\u001b[0m\u001b[1;33m,\u001b[0m \u001b[0mcols\u001b[0m\u001b[1;33m=\u001b[0m\u001b[1;36m5\u001b[0m\u001b[1;33m,\u001b[0m \u001b[0mtitle\u001b[0m\u001b[1;33m=\u001b[0m\u001b[1;34m''\u001b[0m\u001b[1;33m)\u001b[0m\u001b[1;33m\u001b[0m\u001b[1;33m\u001b[0m\u001b[0m\n\u001b[0m",
      "\u001b[1;31mNameError\u001b[0m: name 'misclassified' is not defined"
     ]
    }
   ],
   "source": [
    "plot_samples(misclassified, rows=10, cols=5, title='')"
   ]
  },
  {
   "cell_type": "markdown",
   "metadata": {},
   "source": [
    "Those results seems good : most of the misclassified images could have been easily mistaken, even by an human."
   ]
  },
  {
   "cell_type": "markdown",
   "metadata": {},
   "source": [
    "## Saving our model"
   ]
  },
  {
   "cell_type": "markdown",
   "metadata": {},
   "source": [
    "As stated earlier, we would like to embbed our model in **Flask Web-App**. To do so, it is more convenient to save (serialize) our model using **pickle**.\n",
    "*(Note : You could directly train your model into flask, but it would be really time consuming and inefficient).*\n",
    "By doing so, we will be able to predict new images given by the user."
   ]
  },
  {
   "cell_type": "code",
   "execution_count": 62,
   "metadata": {},
   "outputs": [
    {
     "name": "stdout",
     "output_type": "stream",
     "text": [
      "Keras weights file (<HDF5 file \"variables.h5\" (mode r+)>) saving:\n",
      "...layers\\conv2d\n",
      "......vars\n",
      ".........0\n",
      ".........1\n",
      "...layers\\conv2d_1\n",
      "......vars\n",
      ".........0\n",
      ".........1\n",
      "...layers\\dense\n",
      "......vars\n",
      ".........0\n",
      ".........1\n",
      "...layers\\dense_1\n",
      "......vars\n",
      ".........0\n",
      ".........1\n",
      "...layers\\dense_2\n",
      "......vars\n",
      ".........0\n",
      ".........1\n",
      "...layers\\dropout\n",
      "......vars\n",
      "...layers\\flatten\n",
      "......vars\n",
      "...layers\\max_pooling2d\n",
      "......vars\n",
      "...layers\\max_pooling2d_1\n",
      "......vars\n",
      "...metrics\\mean\n",
      "......vars\n",
      ".........0\n",
      ".........1\n",
      "...metrics\\mean_metric_wrapper\n",
      "......vars\n",
      ".........0\n",
      ".........1\n",
      "...optimizer\n",
      "......vars\n",
      ".........0\n",
      ".........1\n",
      ".........10\n",
      ".........11\n",
      ".........12\n",
      ".........13\n",
      ".........14\n",
      ".........15\n",
      ".........16\n",
      ".........17\n",
      ".........18\n",
      ".........19\n",
      ".........2\n",
      ".........20\n",
      ".........3\n",
      ".........4\n",
      ".........5\n",
      ".........6\n",
      ".........7\n",
      ".........8\n",
      ".........9\n",
      "...vars\n",
      "Keras model archive saving:\n",
      "File Name                                             Modified             Size\n",
      "config.json                                    2023-04-09 00:36:26         3664\n",
      "metadata.json                                  2023-04-09 00:36:26           64\n",
      "variables.h5                                   2023-04-09 00:36:27       429056\n"
     ]
    }
   ],
   "source": [
    "import pickle\n",
    "with open('model_cnn.pkl', 'wb') as file:\n",
    "      pickle.dump(model_cnn, file)"
   ]
  },
  {
   "cell_type": "markdown",
   "metadata": {},
   "source": [
    "That's it ! We will now use our model_cnn to predict new user inputs by embedding it into a flask app !"
   ]
  }
 ],
 "metadata": {
  "kernelspec": {
   "display_name": "Python 3",
   "language": "python",
   "name": "python3"
  },
  "language_info": {
   "codemirror_mode": {
    "name": "ipython",
    "version": 3
   },
   "file_extension": ".py",
   "mimetype": "text/x-python",
   "name": "python",
   "nbconvert_exporter": "python",
   "pygments_lexer": "ipython3",
   "version": "3.9.13"
  }
 },
 "nbformat": 4,
 "nbformat_minor": 2
}
